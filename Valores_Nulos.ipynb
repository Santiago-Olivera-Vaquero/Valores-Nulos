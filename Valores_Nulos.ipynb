{
  "nbformat": 4,
  "nbformat_minor": 0,
  "metadata": {
    "colab": {
      "provenance": [],
      "authorship_tag": "ABX9TyMKonY/+ghUsY/feocwboM+",
      "include_colab_link": true
    },
    "kernelspec": {
      "name": "python3",
      "display_name": "Python 3"
    },
    "language_info": {
      "name": "python"
    }
  },
  "cells": [
    {
      "cell_type": "markdown",
      "metadata": {
        "id": "view-in-github",
        "colab_type": "text"
      },
      "source": [
        "<a href=\"https://colab.research.google.com/github/Santiago-Olivera-Vaquero/Valores-Nulos/blob/main/Valores_Nulos.ipynb\" target=\"_parent\"><img src=\"https://colab.research.google.com/assets/colab-badge.svg\" alt=\"Open In Colab\"/></a>"
      ]
    },
    {
      "cell_type": "code",
      "execution_count": null,
      "metadata": {
        "id": "hkmAtc3d9bAr"
      },
      "outputs": [],
      "source": [
        "#Importación de librerias\n",
        "import pandas as pd #Crea arreglos de datos\n",
        "import numpy as np #Se encarga de operaciones aritmeticas\n",
        "import matplotlib.pyplot as plt #Ayuda a crear graficos\n",
        "import seaborn as sns #Ayuda a crear graficos\n",
        "\n",
        "#Cargar Archivo csv\n",
        "from google.colab import files\n",
        "files.upload()"
      ]
    },
    {
      "cell_type": "code",
      "source": [
        "#Mostrar primeros 5 renglones del dataframe\n",
        "data = pd.read_csv('Ventas_totales.csv')\n",
        "data.head(5)"
      ],
      "metadata": {
        "id": "mwen6efa9p_T"
      },
      "execution_count": null,
      "outputs": []
    },
    {
      "cell_type": "code",
      "source": [
        "#Identificar valores nulos por columna\n",
        "\n",
        "valores_nulos = data.isnull().sum()\n",
        "valores_nulos"
      ],
      "metadata": {
        "id": "dQ4w_cNo-Tc5"
      },
      "execution_count": null,
      "outputs": []
    },
    {
      "cell_type": "code",
      "source": [
        "#Realizar copia del dataframe\n",
        "\n",
        "data1 = data.copy()\n",
        "data1"
      ],
      "metadata": {
        "id": "W2QPVN-C-a9f"
      },
      "execution_count": null,
      "outputs": []
    },
    {
      "cell_type": "code",
      "source": [
        "#Sustituir valores nulos de \"salon_ventas\" con promedio o media\n",
        "\n",
        "data1[\"salon_ventas\"] = data1[\"salon_ventas\"].fillna(round(data[\"salon_ventas\"].mean(),1))\n",
        "data1"
      ],
      "metadata": {
        "id": "VEGNgDJIBfbH"
      },
      "execution_count": null,
      "outputs": []
    },
    {
      "cell_type": "code",
      "source": [
        "#Identificar valores nulos por columna\n",
        "\n",
        "valores_nulos = data1.isnull().sum()\n",
        "valores_nulos"
      ],
      "metadata": {
        "id": "8atz1GMFCDYD"
      },
      "execution_count": null,
      "outputs": []
    },
    {
      "cell_type": "code",
      "source": [
        "#Sustituir valores nules en columnas tarjetas_credito, tarjetas_debito y otros_medios con metodo forward fill\n",
        "#Primero se almacenan las columnas en la variable columns_to_fill y despues se aplica el metodo\n",
        "columns_to_fill = [\"tarjetas_debito\", \"tarjetas_credito\", \"otros_medios\"]\n",
        "data1[columns_to_fill] = data1[columns_to_fill].fillna(method=\"ffill\")\n",
        "data1"
      ],
      "metadata": {
        "id": "YCWBoftzCruW"
      },
      "execution_count": null,
      "outputs": []
    },
    {
      "cell_type": "code",
      "source": [
        "#Identificar valores nulos por columna\n",
        "\n",
        "valores_nulos = data1.isnull().sum()\n",
        "valores_nulos"
      ],
      "metadata": {
        "id": "a0iR28zkFPo0"
      },
      "execution_count": null,
      "outputs": []
    },
    {
      "cell_type": "code",
      "source": [
        "#Sustituir valores nulos de columnas mencionadas en corchete azul con metodo bfill\n",
        "#Primero se almacenan las columnas en la variable columns_to_fill y despues se aplica el metodo\n",
        "\n",
        "columns_to_fill = [\"subtotal_ventas_alimentos_bebidas\", \"bebidas\", \"almacen\", \"panaderia\", \"lacteos\", \"carnes\", \"verduleria_fruteria\",\"alimentos_preparados_rotiseria\"]\n",
        "data1[columns_to_fill] = data1[columns_to_fill].fillna(method=\"bfill\")\n",
        "data1"
      ],
      "metadata": {
        "id": "0yVk4rulFlo-"
      },
      "execution_count": null,
      "outputs": []
    },
    {
      "cell_type": "code",
      "source": [
        "#Identificar valores nulos por columna\n",
        "\n",
        "valores_nulos = data1.isnull().sum()\n",
        "valores_nulos"
      ],
      "metadata": {
        "id": "JWVUyS6zGIKr"
      },
      "execution_count": null,
      "outputs": []
    },
    {
      "cell_type": "code",
      "source": [
        "#Sustituir valores nulos de columnas mencionadas en corchete azul por \"Sin Respuesta\"\n",
        "#Primero se almacenan las columnas en la variable columns_to_fill y despues se aplica el metodo\n",
        "\n",
        "columns_to_fill = [\"indumentaria_calzado_textiles_hogar\",\"electronicos_articulos_hogar\",\"otros\"]\n",
        "data1[columns_to_fill] = data1[columns_to_fill].fillna(\"Sin Respuesta\")\n",
        "data1"
      ],
      "metadata": {
        "id": "zYOWKCytGM32"
      },
      "execution_count": null,
      "outputs": []
    },
    {
      "cell_type": "code",
      "source": [
        "#Identificar valores nulos por columna\n",
        "\n",
        "valores_nulos = data1.isnull().sum()\n",
        "valores_nulos"
      ],
      "metadata": {
        "colab": {
          "base_uri": "https://localhost:8080/"
        },
        "id": "Mr9p5VyrG5_v",
        "outputId": "55e77ea9-5570-41bc-984a-519f406cba1f"
      },
      "execution_count": 26,
      "outputs": [
        {
          "output_type": "execute_result",
          "data": {
            "text/plain": [
              "indice_tiempo                          0\n",
              "ventas_precios_corrientes              0\n",
              "ventas_precios_constantes              0\n",
              "ventas_totales_canal_venta             0\n",
              "salon_ventas                           0\n",
              "canales_on_line                        0\n",
              "ventas_totales_medio_pago              0\n",
              "efectivo                               0\n",
              "tarjetas_debito                        0\n",
              "tarjetas_credito                       0\n",
              "otros_medios                           0\n",
              "ventas_totales_grupo_articulos         0\n",
              "subtotal_ventas_alimentos_bebidas      0\n",
              "bebidas                                0\n",
              "almacen                                0\n",
              "panaderia                              0\n",
              "lacteos                                0\n",
              "carnes                                 0\n",
              "verduleria_fruteria                    0\n",
              "alimentos_preparados_rotiseria         0\n",
              "articulos_limpieza_perfumeria          0\n",
              "indumentaria_calzado_textiles_hogar    0\n",
              "electronicos_articulos_hogar           0\n",
              "otros                                  0\n",
              "dtype: int64"
            ]
          },
          "metadata": {},
          "execution_count": 26
        }
      ]
    },
    {
      "cell_type": "code",
      "source": [
        "#Convertir archivo filtrado a csv\n",
        "data1.to_csv(\"Sustitución de Valores Nulos2.csv\")\n",
        "\n",
        "#descargar archivo filtrado en csv\n",
        "from google.colab import files\n",
        "\n",
        "files.download(\"Sustitución de Valores Nulos2.csv\")"
      ],
      "metadata": {
        "colab": {
          "base_uri": "https://localhost:8080/",
          "height": 17
        },
        "id": "Bmd3AbkBHEks",
        "outputId": "cb5823bf-df5c-4a83-f715-d4fddcc3e393"
      },
      "execution_count": 32,
      "outputs": [
        {
          "output_type": "display_data",
          "data": {
            "text/plain": [
              "<IPython.core.display.Javascript object>"
            ],
            "application/javascript": [
              "\n",
              "    async function download(id, filename, size) {\n",
              "      if (!google.colab.kernel.accessAllowed) {\n",
              "        return;\n",
              "      }\n",
              "      const div = document.createElement('div');\n",
              "      const label = document.createElement('label');\n",
              "      label.textContent = `Downloading \"${filename}\": `;\n",
              "      div.appendChild(label);\n",
              "      const progress = document.createElement('progress');\n",
              "      progress.max = size;\n",
              "      div.appendChild(progress);\n",
              "      document.body.appendChild(div);\n",
              "\n",
              "      const buffers = [];\n",
              "      let downloaded = 0;\n",
              "\n",
              "      const channel = await google.colab.kernel.comms.open(id);\n",
              "      // Send a message to notify the kernel that we're ready.\n",
              "      channel.send({})\n",
              "\n",
              "      for await (const message of channel.messages) {\n",
              "        // Send a message to notify the kernel that we're ready.\n",
              "        channel.send({})\n",
              "        if (message.buffers) {\n",
              "          for (const buffer of message.buffers) {\n",
              "            buffers.push(buffer);\n",
              "            downloaded += buffer.byteLength;\n",
              "            progress.value = downloaded;\n",
              "          }\n",
              "        }\n",
              "      }\n",
              "      const blob = new Blob(buffers, {type: 'application/binary'});\n",
              "      const a = document.createElement('a');\n",
              "      a.href = window.URL.createObjectURL(blob);\n",
              "      a.download = filename;\n",
              "      div.appendChild(a);\n",
              "      a.click();\n",
              "      div.remove();\n",
              "    }\n",
              "  "
            ]
          },
          "metadata": {}
        },
        {
          "output_type": "display_data",
          "data": {
            "text/plain": [
              "<IPython.core.display.Javascript object>"
            ],
            "application/javascript": [
              "download(\"download_1e50930e-4935-492a-80fb-813e81865a78\", \"Sustituci\\u00f3n de Valores Nulos2.csv\", 18658)"
            ]
          },
          "metadata": {}
        }
      ]
    }
  ]
}